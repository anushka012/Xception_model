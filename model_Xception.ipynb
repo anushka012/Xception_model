{
  "nbformat": 4,
  "nbformat_minor": 0,
  "metadata": {
    "colab": {
      "name": "model_Xception.ipynb",
      "provenance": [],
      "include_colab_link": true
    },
    "kernelspec": {
      "name": "python3",
      "display_name": "Python 3"
    },
    "language_info": {
      "name": "python"
    }
  },
  "cells": [
    {
      "cell_type": "markdown",
      "metadata": {
        "id": "view-in-github",
        "colab_type": "text"
      },
      "source": [
        "<a href=\"https://colab.research.google.com/github/anushka012/Xception_model/blob/main/model_Xception.ipynb\" target=\"_parent\"><img src=\"https://colab.research.google.com/assets/colab-badge.svg\" alt=\"Open In Colab\"/></a>"
      ]
    },
    {
      "cell_type": "code",
      "metadata": {
        "id": "tPEgG_CHT6x8"
      },
      "source": [
        "from tensorflow.keras.applications import Xception\n",
        "from keras.applications.vgg16 import preprocess_input as pi"
      ],
      "execution_count": null,
      "outputs": []
    },
    {
      "cell_type": "code",
      "metadata": {
        "id": "hxCzfTLpUHiX"
      },
      "source": [
        "from keras.preprocessing.image import ImageDataGenerator\n",
        "import keras\n",
        "from keras.models import Sequential\n",
        "from keras.layers import Input, Dense\n",
        "from tensorflow.keras.applications import ResNet50\n",
        "from tensorflow.keras.applications.resnet50 import preprocess_input"
      ],
      "execution_count": null,
      "outputs": []
    },
    {
      "cell_type": "code",
      "metadata": {
        "id": "CYiV6uk1UHky"
      },
      "source": [
        "import numpy as np\n",
        "import tensorflow as tf\n",
        "\n",
        "from tensorflow.keras import datasets, layers, models\n",
        "import matplotlib.pyplot as plt\n",
        "from tensorflow.keras.utils import normalize, to_categorical "
      ],
      "execution_count": null,
      "outputs": []
    },
    {
      "cell_type": "code",
      "metadata": {
        "id": "mp_c1rkZUHnE"
      },
      "source": [
        "num_classes = 3\n",
        "image_resize_week4 = 224\n",
        "batch2_size_training = 32\n",
        "batch2_size_validation = 32"
      ],
      "execution_count": null,
      "outputs": []
    },
    {
      "cell_type": "code",
      "metadata": {
        "colab": {
          "base_uri": "https://localhost:8080/"
        },
        "id": "2KPmgeDeUSp5",
        "outputId": "cfe2ed14-b3f5-44ed-ab73-9b5959d2f866"
      },
      "source": [
        "from google.colab import drive\n",
        "drive.mount('/content/gdrive')"
      ],
      "execution_count": null,
      "outputs": [
        {
          "output_type": "stream",
          "name": "stdout",
          "text": [
            "Mounted at /content/gdrive\n"
          ]
        }
      ]
    },
    {
      "cell_type": "code",
      "metadata": {
        "id": "l7uoxNxXUWl4"
      },
      "source": [
        "X_train = np.load(\"/content/gdrive/MyDrive/covid_research/X_train.npy\").astype(np.uint8)\n",
        "Y_train = np.load(\"/content/gdrive/MyDrive/covid_research/Y_train.npy\").astype(np.uint8)\n",
        "X_test= np.load(\"/content/gdrive/MyDrive/covid_research/X_test.npy\")\n",
        "Y_test = np.load(\"/content/gdrive/MyDrive/covid_research/Y_test.npy\")"
      ],
      "execution_count": null,
      "outputs": []
    },
    {
      "cell_type": "code",
      "metadata": {
        "id": "BrU2PIZIUWoX"
      },
      "source": [
        "Y_train = to_categorical(Y_train)\n",
        "Y_test = to_categorical(Y_test)"
      ],
      "execution_count": null,
      "outputs": []
    },
    {
      "cell_type": "code",
      "metadata": {
        "colab": {
          "base_uri": "https://localhost:8080/"
        },
        "id": "0X6PD0roUWtV",
        "outputId": "136d2512-921c-4c8d-891c-cd44670700f2"
      },
      "source": [
        "print(Y_test)"
      ],
      "execution_count": null,
      "outputs": [
        {
          "output_type": "stream",
          "name": "stdout",
          "text": [
            "[[0. 0. 1.]\n",
            " [0. 0. 1.]\n",
            " [0. 0. 1.]\n",
            " ...\n",
            " [0. 0. 1.]\n",
            " [0. 0. 1.]\n",
            " [0. 0. 1.]]\n"
          ]
        }
      ]
    },
    {
      "cell_type": "code",
      "metadata": {
        "id": "R1NqJiz3USsP"
      },
      "source": [
        "model = Sequential()\n",
        "#model = tensorflow.keras.Sequential()"
      ],
      "execution_count": null,
      "outputs": []
    },
    {
      "cell_type": "code",
      "metadata": {
        "colab": {
          "base_uri": "https://localhost:8080/"
        },
        "id": "7GBCTkPhUgq2",
        "outputId": "5eddb714-cf66-4b77-d670-e8312df70067"
      },
      "source": [
        "model.add(Xception(\n",
        "    include_top=False,\n",
        "    pooling='avg',\n",
        "    weights='imagenet',\n",
        "    ))"
      ],
      "execution_count": null,
      "outputs": [
        {
          "output_type": "stream",
          "name": "stdout",
          "text": [
            "Downloading data from https://storage.googleapis.com/tensorflow/keras-applications/xception/xception_weights_tf_dim_ordering_tf_kernels_notop.h5\n",
            "83689472/83683744 [==============================] - 1s 0us/step\n",
            "83697664/83683744 [==============================] - 1s 0us/step\n"
          ]
        }
      ]
    },
    {
      "cell_type": "code",
      "metadata": {
        "id": "nxHFmrt0Ugvh"
      },
      "source": [
        "model.add(Dense(num_classes, activation='softmax'))"
      ],
      "execution_count": null,
      "outputs": []
    },
    {
      "cell_type": "code",
      "metadata": {
        "colab": {
          "base_uri": "https://localhost:8080/"
        },
        "id": "Xd1Hxt1WUSuc",
        "outputId": "39d3ca50-6117-418d-9cc9-f8a37cf1ec71"
      },
      "source": [
        "model.layers"
      ],
      "execution_count": null,
      "outputs": [
        {
          "output_type": "execute_result",
          "data": {
            "text/plain": [
              "[<keras.engine.functional.Functional at 0x7f4433afa1d0>,\n",
              " <keras.layers.core.Dense at 0x7f44822124d0>]"
            ]
          },
          "metadata": {},
          "execution_count": 12
        }
      ]
    },
    {
      "cell_type": "code",
      "metadata": {
        "colab": {
          "base_uri": "https://localhost:8080/"
        },
        "id": "rRsxnB3PUo7P",
        "outputId": "ee13a2f1-a179-437f-e951-fa34db93eb62"
      },
      "source": [
        "model.layers[0].layers"
      ],
      "execution_count": null,
      "outputs": [
        {
          "output_type": "execute_result",
          "data": {
            "text/plain": [
              "[<keras.engine.input_layer.InputLayer at 0x7f4437f8fe10>,\n",
              " <keras.layers.convolutional.Conv2D at 0x7f4437741490>,\n",
              " <keras.layers.normalization.batch_normalization.BatchNormalization at 0x7f4437759b50>,\n",
              " <keras.layers.core.Activation at 0x7f4433e0b590>,\n",
              " <keras.layers.convolutional.Conv2D at 0x7f4433e0b450>,\n",
              " <keras.layers.normalization.batch_normalization.BatchNormalization at 0x7f44860aa4d0>,\n",
              " <keras.layers.core.Activation at 0x7f4433cedd10>,\n",
              " <keras.layers.convolutional.SeparableConv2D at 0x7f4433d03ad0>,\n",
              " <keras.layers.normalization.batch_normalization.BatchNormalization at 0x7f4433d0ca10>,\n",
              " <keras.layers.core.Activation at 0x7f4433d16a90>,\n",
              " <keras.layers.convolutional.SeparableConv2D at 0x7f4433d19390>,\n",
              " <keras.layers.normalization.batch_normalization.BatchNormalization at 0x7f4437759f10>,\n",
              " <keras.layers.convolutional.Conv2D at 0x7f4433cedf90>,\n",
              " <keras.layers.pooling.MaxPooling2D at 0x7f4433ca1b90>,\n",
              " <keras.layers.normalization.batch_normalization.BatchNormalization at 0x7f4433cfa550>,\n",
              " <keras.layers.merge.Add at 0x7f4433cae050>,\n",
              " <keras.layers.core.Activation at 0x7f4433cb3e10>,\n",
              " <keras.layers.convolutional.SeparableConv2D at 0x7f4433cbab50>,\n",
              " <keras.layers.normalization.batch_normalization.BatchNormalization at 0x7f4433d1f4d0>,\n",
              " <keras.layers.core.Activation at 0x7f4433cc8710>,\n",
              " <keras.layers.convolutional.SeparableConv2D at 0x7f4437780f10>,\n",
              " <keras.layers.normalization.batch_normalization.BatchNormalization at 0x7f4433ccbd10>,\n",
              " <keras.layers.convolutional.Conv2D at 0x7f4433caead0>,\n",
              " <keras.layers.pooling.MaxPooling2D at 0x7f4433cd28d0>,\n",
              " <keras.layers.normalization.batch_normalization.BatchNormalization at 0x7f4433d1f3d0>,\n",
              " <keras.layers.merge.Add at 0x7f4433cdd190>,\n",
              " <keras.layers.core.Activation at 0x7f4433c62210>,\n",
              " <keras.layers.convolutional.SeparableConv2D at 0x7f4433c6a810>,\n",
              " <keras.layers.normalization.batch_normalization.BatchNormalization at 0x7f4433cd8310>,\n",
              " <keras.layers.core.Activation at 0x7f4433c73910>,\n",
              " <keras.layers.convolutional.SeparableConv2D at 0x7f4433c76ad0>,\n",
              " <keras.layers.normalization.batch_normalization.BatchNormalization at 0x7f4433c7fe10>,\n",
              " <keras.layers.convolutional.Conv2D at 0x7f4433cdde50>,\n",
              " <keras.layers.pooling.MaxPooling2D at 0x7f4433c73890>,\n",
              " <keras.layers.normalization.batch_normalization.BatchNormalization at 0x7f4433cbea10>,\n",
              " <keras.layers.merge.Add at 0x7f4433c882d0>,\n",
              " <keras.layers.core.Activation at 0x7f4433c8dc90>,\n",
              " <keras.layers.convolutional.SeparableConv2D at 0x7f4433c88a50>,\n",
              " <keras.layers.normalization.batch_normalization.BatchNormalization at 0x7f4433c73750>,\n",
              " <keras.layers.core.Activation at 0x7f4433c9b4d0>,\n",
              " <keras.layers.convolutional.SeparableConv2D at 0x7f4433c97c50>,\n",
              " <keras.layers.normalization.batch_normalization.BatchNormalization at 0x7f4433c8d7d0>,\n",
              " <keras.layers.core.Activation at 0x7f4433cae110>,\n",
              " <keras.layers.convolutional.SeparableConv2D at 0x7f4433ca9e10>,\n",
              " <keras.layers.normalization.batch_normalization.BatchNormalization at 0x7f4433c8ddd0>,\n",
              " <keras.layers.merge.Add at 0x7f4433ce1fd0>,\n",
              " <keras.layers.core.Activation at 0x7f4433c8db90>,\n",
              " <keras.layers.convolutional.SeparableConv2D at 0x7f4433d06b10>,\n",
              " <keras.layers.normalization.batch_normalization.BatchNormalization at 0x7f4433c26cd0>,\n",
              " <keras.layers.core.Activation at 0x7f4433c2c050>,\n",
              " <keras.layers.convolutional.SeparableConv2D at 0x7f4433c293d0>,\n",
              " <keras.layers.normalization.batch_normalization.BatchNormalization at 0x7f4433c35310>,\n",
              " <keras.layers.core.Activation at 0x7f4433c3a810>,\n",
              " <keras.layers.convolutional.SeparableConv2D at 0x7f4433c370d0>,\n",
              " <keras.layers.normalization.batch_normalization.BatchNormalization at 0x7f4433c47210>,\n",
              " <keras.layers.merge.Add at 0x7f4433c50750>,\n",
              " <keras.layers.core.Activation at 0x7f4433c243d0>,\n",
              " <keras.layers.convolutional.SeparableConv2D at 0x7f4433c5c2d0>,\n",
              " <keras.layers.normalization.batch_normalization.BatchNormalization at 0x7f4433c5f410>,\n",
              " <keras.layers.core.Activation at 0x7f4433c5f690>,\n",
              " <keras.layers.convolutional.SeparableConv2D at 0x7f4433c5ccd0>,\n",
              " <keras.layers.normalization.batch_normalization.BatchNormalization at 0x7f4433bed990>,\n",
              " <keras.layers.core.Activation at 0x7f4433bf4ed0>,\n",
              " <keras.layers.convolutional.SeparableConv2D at 0x7f4433bf04d0>,\n",
              " <keras.layers.normalization.batch_normalization.BatchNormalization at 0x7f4433bff8d0>,\n",
              " <keras.layers.merge.Add at 0x7f4433c09dd0>,\n",
              " <keras.layers.core.Activation at 0x7f4433c50a50>,\n",
              " <keras.layers.convolutional.SeparableConv2D at 0x7f4433c13990>,\n",
              " <keras.layers.normalization.batch_normalization.BatchNormalization at 0x7f4433ba1d90>,\n",
              " <keras.layers.core.Activation at 0x7f4433c17ed0>,\n",
              " <keras.layers.convolutional.SeparableConv2D at 0x7f4433ba5f50>,\n",
              " <keras.layers.normalization.batch_normalization.BatchNormalization at 0x7f4433bb5fd0>,\n",
              " <keras.layers.core.Activation at 0x7f4433ba1650>,\n",
              " <keras.layers.convolutional.SeparableConv2D at 0x7f4433bb2510>,\n",
              " <keras.layers.normalization.batch_normalization.BatchNormalization at 0x7f4433bcb6d0>,\n",
              " <keras.layers.merge.Add at 0x7f4433bc0990>,\n",
              " <keras.layers.core.Activation at 0x7f4433c03590>,\n",
              " <keras.layers.convolutional.SeparableConv2D at 0x7f4433bdf7d0>,\n",
              " <keras.layers.normalization.batch_normalization.BatchNormalization at 0x7f4433bdf850>,\n",
              " <keras.layers.core.Activation at 0x7f4433bcc950>,\n",
              " <keras.layers.convolutional.SeparableConv2D at 0x7f4433bc01d0>,\n",
              " <keras.layers.normalization.batch_normalization.BatchNormalization at 0x7f4433c17e90>,\n",
              " <keras.layers.core.Activation at 0x7f4433bcc050>,\n",
              " <keras.layers.convolutional.SeparableConv2D at 0x7f4433bf0f90>,\n",
              " <keras.layers.normalization.batch_normalization.BatchNormalization at 0x7f4433c5c090>,\n",
              " <keras.layers.merge.Add at 0x7f4433bd2f90>,\n",
              " <keras.layers.core.Activation at 0x7f4433bd2350>,\n",
              " <keras.layers.convolutional.SeparableConv2D at 0x7f4433cf5ed0>,\n",
              " <keras.layers.normalization.batch_normalization.BatchNormalization at 0x7f4433ce8150>,\n",
              " <keras.layers.core.Activation at 0x7f4433be9990>,\n",
              " <keras.layers.convolutional.SeparableConv2D at 0x7f4433cef150>,\n",
              " <keras.layers.normalization.batch_normalization.BatchNormalization at 0x7f4433b65b50>,\n",
              " <keras.layers.core.Activation at 0x7f4433cefd10>,\n",
              " <keras.layers.convolutional.SeparableConv2D at 0x7f4433c353d0>,\n",
              " <keras.layers.normalization.batch_normalization.BatchNormalization at 0x7f4433b68550>,\n",
              " <keras.layers.merge.Add at 0x7f4433b64c10>,\n",
              " <keras.layers.core.Activation at 0x7f4433c55c90>,\n",
              " <keras.layers.convolutional.SeparableConv2D at 0x7f4433b78090>,\n",
              " <keras.layers.normalization.batch_normalization.BatchNormalization at 0x7f4433b78f90>,\n",
              " <keras.layers.core.Activation at 0x7f4433b64c90>,\n",
              " <keras.layers.convolutional.SeparableConv2D at 0x7f4433b813d0>,\n",
              " <keras.layers.normalization.batch_normalization.BatchNormalization at 0x7f4433b87d50>,\n",
              " <keras.layers.core.Activation at 0x7f4433b8d0d0>,\n",
              " <keras.layers.convolutional.SeparableConv2D at 0x7f4433b8da10>,\n",
              " <keras.layers.normalization.batch_normalization.BatchNormalization at 0x7f4433b9ac50>,\n",
              " <keras.layers.merge.Add at 0x7f4433b8d210>,\n",
              " <keras.layers.core.Activation at 0x7f4433b6f150>,\n",
              " <keras.layers.convolutional.SeparableConv2D at 0x7f4433b29750>,\n",
              " <keras.layers.normalization.batch_normalization.BatchNormalization at 0x7f4433b32e10>,\n",
              " <keras.layers.core.Activation at 0x7f4433b24850>,\n",
              " <keras.layers.convolutional.SeparableConv2D at 0x7f4433b36610>,\n",
              " <keras.layers.normalization.batch_normalization.BatchNormalization at 0x7f4433b3ab10>,\n",
              " <keras.layers.core.Activation at 0x7f4433b447d0>,\n",
              " <keras.layers.convolutional.SeparableConv2D at 0x7f4433b49690>,\n",
              " <keras.layers.normalization.batch_normalization.BatchNormalization at 0x7f4433b55390>,\n",
              " <keras.layers.merge.Add at 0x7f4433b4ba50>,\n",
              " <keras.layers.core.Activation at 0x7f4433ae30d0>,\n",
              " <keras.layers.convolutional.SeparableConv2D at 0x7f4433b5d890>,\n",
              " <keras.layers.normalization.batch_normalization.BatchNormalization at 0x7f4433b44750>,\n",
              " <keras.layers.core.Activation at 0x7f4433b3aa10>,\n",
              " <keras.layers.convolutional.SeparableConv2D at 0x7f4433b55d90>,\n",
              " <keras.layers.normalization.batch_normalization.BatchNormalization at 0x7f4433b8d150>,\n",
              " <keras.layers.convolutional.Conv2D at 0x7f4433b5b450>,\n",
              " <keras.layers.pooling.MaxPooling2D at 0x7f4433b7c810>,\n",
              " <keras.layers.normalization.batch_normalization.BatchNormalization at 0x7f4433ae9450>,\n",
              " <keras.layers.merge.Add at 0x7f4433b6f310>,\n",
              " <keras.layers.convolutional.SeparableConv2D at 0x7f4433b4b2d0>,\n",
              " <keras.layers.normalization.batch_normalization.BatchNormalization at 0x7f4433d16d50>,\n",
              " <keras.layers.core.Activation at 0x7f4433bb2f90>,\n",
              " <keras.layers.convolutional.SeparableConv2D at 0x7f4433b6f250>,\n",
              " <keras.layers.normalization.batch_normalization.BatchNormalization at 0x7f4433aef090>,\n",
              " <keras.layers.core.Activation at 0x7f4433bcb8d0>,\n",
              " <keras.layers.pooling.GlobalAveragePooling2D at 0x7f4433aed6d0>]"
            ]
          },
          "metadata": {},
          "execution_count": 13
        }
      ]
    },
    {
      "cell_type": "code",
      "metadata": {
        "id": "IgDoswpiUo9w"
      },
      "source": [
        "model.layers[0].trainable = False"
      ],
      "execution_count": null,
      "outputs": []
    },
    {
      "cell_type": "code",
      "metadata": {
        "id": "4-cvdRWMUpAF"
      },
      "source": [
        "model.compile(optimizer='adam', loss='categorical_crossentropy', metrics=['accuracy'])"
      ],
      "execution_count": null,
      "outputs": []
    },
    {
      "cell_type": "code",
      "metadata": {
        "colab": {
          "base_uri": "https://localhost:8080/"
        },
        "id": "uhs11fj6Uy2x",
        "outputId": "b0c599e9-f2dd-4058-844d-c402a1c98e9e"
      },
      "source": [
        "fit_history = model.fit(X_train, Y_train, epochs=10, \n",
        "                    validation_data=(X_test, Y_test), batch_size=10)"
      ],
      "execution_count": null,
      "outputs": [
        {
          "output_type": "stream",
          "name": "stdout",
          "text": [
            "Epoch 1/10\n",
            "1001/1001 [==============================] - 78s 75ms/step - loss: 0.6306 - accuracy: 0.9989 - val_loss: 0.3268 - val_accuracy: 1.0000\n",
            "Epoch 2/10\n",
            "1001/1001 [==============================] - 71s 70ms/step - loss: 0.2062 - accuracy: 1.0000 - val_loss: 0.1261 - val_accuracy: 1.0000\n",
            "Epoch 3/10\n",
            "1001/1001 [==============================] - 70s 70ms/step - loss: 0.0881 - accuracy: 1.0000 - val_loss: 0.0602 - val_accuracy: 1.0000\n",
            "Epoch 4/10\n",
            "1001/1001 [==============================] - 70s 70ms/step - loss: 0.0446 - accuracy: 1.0000 - val_loss: 0.0323 - val_accuracy: 1.0000\n",
            "Epoch 5/10\n",
            "1001/1001 [==============================] - 68s 68ms/step - loss: 0.0246 - accuracy: 1.0000 - val_loss: 0.0184 - val_accuracy: 1.0000\n",
            "Epoch 6/10\n",
            "1001/1001 [==============================] - 68s 68ms/step - loss: 0.0143 - accuracy: 1.0000 - val_loss: 0.0109 - val_accuracy: 1.0000\n",
            "Epoch 7/10\n",
            "1001/1001 [==============================] - 68s 68ms/step - loss: 0.0085 - accuracy: 1.0000 - val_loss: 0.0066 - val_accuracy: 1.0000\n",
            "Epoch 8/10\n",
            "1001/1001 [==============================] - 68s 68ms/step - loss: 0.0052 - accuracy: 1.0000 - val_loss: 0.0040 - val_accuracy: 1.0000\n",
            "Epoch 9/10\n",
            "1001/1001 [==============================] - 68s 68ms/step - loss: 0.0032 - accuracy: 1.0000 - val_loss: 0.0025 - val_accuracy: 1.0000\n",
            "Epoch 10/10\n",
            "1001/1001 [==============================] - 68s 68ms/step - loss: 0.0020 - accuracy: 1.0000 - val_loss: 0.0015 - val_accuracy: 1.0000\n"
          ]
        }
      ]
    },
    {
      "cell_type": "code",
      "metadata": {
        "id": "OGX8VSshUy5S",
        "colab": {
          "base_uri": "https://localhost:8080/"
        },
        "outputId": "1936229d-6844-4a3e-98cc-bfd43198208d"
      },
      "source": [
        "model.save('classifier_xception_model.h5')"
      ],
      "execution_count": null,
      "outputs": [
        {
          "output_type": "stream",
          "name": "stderr",
          "text": [
            "/usr/local/lib/python3.7/dist-packages/keras/utils/generic_utils.py:497: CustomMaskWarning: Custom mask layers require a config and must override get_config. When loading, the custom mask layer must be passed to the custom_objects argument.\n",
            "  category=CustomMaskWarning)\n"
          ]
        }
      ]
    },
    {
      "cell_type": "markdown",
      "metadata": {
        "id": "GqjtXty9WD1N"
      },
      "source": [
        "**Evaluating the model**"
      ]
    },
    {
      "cell_type": "code",
      "metadata": {
        "colab": {
          "base_uri": "https://localhost:8080/"
        },
        "id": "CI7_p6EFWBVh",
        "outputId": "727d86a3-e934-4e5a-cb20-b028ff63d124"
      },
      "source": [
        "train_loss, train_acc = model.evaluate_generator(X_train, steps=16)"
      ],
      "execution_count": null,
      "outputs": [
        {
          "output_type": "stream",
          "name": "stderr",
          "text": [
            "/usr/local/lib/python3.7/dist-packages/keras/engine/training.py:2006: UserWarning: `Model.evaluate_generator` is deprecated and will be removed in a future version. Please use `Model.evaluate`, which supports generators.\n",
            "  warnings.warn('`Model.evaluate_generator` is deprecated and '\n"
          ]
        }
      ]
    },
    {
      "cell_type": "code",
      "metadata": {
        "colab": {
          "base_uri": "https://localhost:8080/"
        },
        "id": "m7gz73LtWBYF",
        "outputId": "0bcae466-07fe-45fd-e4eb-841864379084"
      },
      "source": [
        "test_loss, test_acc = model.evaluate(X_test, steps=16)"
      ],
      "execution_count": null,
      "outputs": [
        {
          "output_type": "stream",
          "name": "stdout",
          "text": [
            "16/16 [==============================] - 0s 3ms/step - loss: 0.0000e+00 - accuracy: 0.0000e+00\n"
          ]
        }
      ]
    },
    {
      "cell_type": "code",
      "metadata": {
        "colab": {
          "base_uri": "https://localhost:8080/"
        },
        "id": "ETx_Sv7QWBdt",
        "outputId": "c00f7903-2e75-478b-8ab6-ff68e9332a01"
      },
      "source": [
        "print(\"Train: %.3f, Test: %.3f\" % (train_acc, test_acc))"
      ],
      "execution_count": null,
      "outputs": [
        {
          "output_type": "stream",
          "name": "stdout",
          "text": [
            "Train: 0.000, Test: 0.000\n"
          ]
        }
      ]
    },
    {
      "cell_type": "markdown",
      "metadata": {
        "id": "JaNvYCZ_WLRh"
      },
      "source": [
        "**Plot training history**"
      ]
    },
    {
      "cell_type": "code",
      "metadata": {
        "colab": {
          "base_uri": "https://localhost:8080/"
        },
        "id": "rYCdvQKXUy79",
        "outputId": "d21b9b75-0209-4a58-f6ad-b75bbf434f1c"
      },
      "source": [
        "from matplotlib import pyplot as pyplot\n",
        "print(\"Values stored in history are...\\n\", fit_history.history)"
      ],
      "execution_count": null,
      "outputs": [
        {
          "output_type": "stream",
          "name": "stdout",
          "text": [
            "Values stored in history are...\n",
            " {'loss': [0.6306233406066895, 0.20621438324451447, 0.08812815696001053, 0.04456794634461403, 0.02463725581765175, 0.014303636737167835, 0.008541395887732506, 0.005186006426811218, 0.0031804514583200216, 0.0019624175038188696], 'accuracy': [0.9989001154899597, 1.0, 1.0, 1.0, 1.0, 1.0, 1.0, 1.0, 1.0, 1.0], 'val_loss': [0.3267749547958374, 0.12608705461025238, 0.060237471014261246, 0.03227601945400238, 0.018407583236694336, 0.010877393186092377, 0.006563038099557161, 0.00400943448767066, 0.002468136139214039, 0.0015263170935213566], 'val_accuracy': [1.0, 1.0, 1.0, 1.0, 1.0, 1.0, 1.0, 1.0, 1.0, 1.0]}\n"
          ]
        }
      ]
    },
    {
      "cell_type": "code",
      "metadata": {
        "colab": {
          "base_uri": "https://localhost:8080/",
          "height": 265
        },
        "id": "PBvd5wYhWJzJ",
        "outputId": "a6db35f9-ea83-4580-8be2-a0da6687ad7d"
      },
      "source": [
        "plt.plot(fit_history.history['loss'], label='train')\n",
        "plt.plot(fit_history.history['val_loss'], label='test')\n",
        "plt.legend()\n",
        "plt.show()"
      ],
      "execution_count": null,
      "outputs": [
        {
          "output_type": "display_data",
          "data": {
            "image/png": "[encoded data removed]",
            "text/plain": [
              "<Figure size 432x288 with 1 Axes>"
            ]
          },
          "metadata": {
            "needs_background": "light"
          }
        }
      ]
    },
    {
      "cell_type": "code",
      "metadata": {
        "id": "bMu95JsHWJ1g"
      },
      "source": [
        "from keras.models import load_model"
      ],
      "execution_count": null,
      "outputs": []
    },
    {
      "cell_type": "code",
      "metadata": {
        "id": "EJrZROyxUHpH"
      },
      "source": [
        "pretrained_model_2 = load_model('classifier_xception_model.h5')"
      ],
      "execution_count": null,
      "outputs": []
    },
    {
      "cell_type": "code",
      "metadata": {
        "id": "ueO5Yij3WS97"
      },
      "source": [
        "steps_per_epoch_test_2 = int(len(X_test)/ 64)"
      ],
      "execution_count": null,
      "outputs": []
    },
    {
      "cell_type": "code",
      "metadata": {
        "colab": {
          "base_uri": "https://localhost:8080/"
        },
        "id": "8UQ958qoWTAZ",
        "outputId": "d2ac1e6c-5a41-4933-fc2f-b3b90ab3f665"
      },
      "source": [
        "score_2 = pretrained_model_2.evaluate_generator(X_test, steps=steps_per_epoch_test_2)"
      ],
      "execution_count": null,
      "outputs": [
        {
          "output_type": "stream",
          "name": "stderr",
          "text": [
            "/usr/local/lib/python3.7/dist-packages/keras/engine/training.py:2006: UserWarning: `Model.evaluate_generator` is deprecated and will be removed in a future version. Please use `Model.evaluate`, which supports generators.\n",
            "  warnings.warn('`Model.evaluate_generator` is deprecated and '\n"
          ]
        }
      ]
    },
    {
      "cell_type": "code",
      "metadata": {
        "colab": {
          "base_uri": "https://localhost:8080/"
        },
        "id": "DoNlLf2ZWZ8n",
        "outputId": "6682a63b-d5d9-4ec4-8c54-ef0524388cef"
      },
      "source": [
        "print('Accuracy of VGG19: {}% \\n Error: {}'.format(score_2[1], 1 - score_2[1]))"
      ],
      "execution_count": null,
      "outputs": [
        {
          "output_type": "stream",
          "name": "stdout",
          "text": [
            "Accuracy of VGG19: 0.0% \n",
            " Error: 1.0\n"
          ]
        }
      ]
    },
    {
      "cell_type": "code",
      "metadata": {
        "id": "h9IVGQnmWZ_g"
      },
      "source": [
        "import numpy as np"
      ],
      "execution_count": null,
      "outputs": []
    },
    {
      "cell_type": "code",
      "metadata": {
        "colab": {
          "base_uri": "https://localhost:8080/"
        },
        "id": "76rIaXPEWaB4",
        "outputId": "2947be5f-58a6-4751-f9ac-0e40bc02c9f4"
      },
      "source": [
        "predict2 = pretrained_model_2.predict_generator(X_test, steps=steps_per_epoch_test_2)"
      ],
      "execution_count": null,
      "outputs": [
        {
          "output_type": "stream",
          "name": "stderr",
          "text": [
            "/usr/local/lib/python3.7/dist-packages/keras/engine/training.py:2035: UserWarning: `Model.predict_generator` is deprecated and will be removed in a future version. Please use `Model.predict`, which supports generators.\n",
            "  warnings.warn('`Model.predict_generator` is deprecated and '\n"
          ]
        }
      ]
    },
    {
      "cell_type": "code",
      "metadata": {
        "id": "cXMScqGkWTCP"
      },
      "source": [
        "class_names= ['0', '1', '2']"
      ],
      "execution_count": null,
      "outputs": []
    },
    {
      "cell_type": "code",
      "metadata": {
        "id": "AQL3srhlWjfr"
      },
      "source": [
        "label2index = {0:0, 1:1, 2:2}"
      ],
      "execution_count": null,
      "outputs": []
    },
    {
      "cell_type": "code",
      "metadata": {
        "colab": {
          "base_uri": "https://localhost:8080/"
        },
        "id": "gGMN1u-cWji_",
        "outputId": "16409874-a872-4678-fc43-bcee603f7350"
      },
      "source": [
        "list_of_label = list(label2index.keys())\n",
        "print(\"The list of classes: \", list_of_label)"
      ],
      "execution_count": null,
      "outputs": [
        {
          "output_type": "stream",
          "name": "stdout",
          "text": [
            "The list of classes:  [0, 1, 2]\n"
          ]
        }
      ]
    },
    {
      "cell_type": "code",
      "metadata": {
        "colab": {
          "base_uri": "https://localhost:8080/"
        },
        "id": "p2Eh33pbWjlC",
        "outputId": "153ba5a4-96e0-46d2-d050-4cbbe6282556"
      },
      "source": [
        "print(\"Xception Predictions :\")\n",
        "for i in range(0, 10):\n",
        "    pred_class = np.argmax(predict2[i])\n",
        "    pred_label = list_of_label[pred_class]\n",
        "    print('Prediction :{}'.format(\n",
        "        pred_label,\n",
        "        predict2[i][pred_class]))\n",
        "    # img = Image.open(predict2[i])\n",
        "    # img.show()"
      ],
      "execution_count": null,
      "outputs": [
        {
          "output_type": "stream",
          "name": "stdout",
          "text": [
            "Xception Predictions :\n",
            "Prediction :2\n",
            "Prediction :2\n",
            "Prediction :2\n",
            "Prediction :2\n",
            "Prediction :2\n",
            "Prediction :2\n",
            "Prediction :2\n",
            "Prediction :2\n",
            "Prediction :2\n",
            "Prediction :2\n"
          ]
        }
      ]
    }
  ]
}